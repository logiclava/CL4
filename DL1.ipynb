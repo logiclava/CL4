{
  "nbformat": 4,
  "nbformat_minor": 0,
  "metadata": {
    "colab": {
      "provenance": [],
      "gpuType": "T4"
    },
    "kernelspec": {
      "name": "python3",
      "display_name": "Python 3"
    },
    "language_info": {
      "name": "python"
    },
    "accelerator": "GPU"
  },
  "cells": [
    {
      "cell_type": "code",
      "execution_count": 2,
      "metadata": {
        "colab": {
          "base_uri": "https://localhost:8080/"
        },
        "id": "jjj65H0gGnsC",
        "outputId": "c01b7886-22aa-4fb3-d6d5-92d6727389e7"
      },
      "outputs": [
        {
          "output_type": "stream",
          "name": "stdout",
          "text": [
            "Avg. Area Income                0\n",
            "Avg. Area House Age             0\n",
            "Avg. Area Number of Rooms       0\n",
            "Avg. Area Number of Bedrooms    0\n",
            "Area Population                 0\n",
            "Price                           0\n",
            "Address                         0\n",
            "dtype: int64\n",
            "Root Mean Squared Error: 100444.06055558745\n",
            "R² Score: 0.9179971706834289\n"
          ]
        }
      ],
      "source": [
        "import pandas as pd\n",
        "import numpy as np\n",
        "from sklearn.model_selection import train_test_split\n",
        "from sklearn.linear_model import LinearRegression\n",
        "from sklearn.metrics import mean_squared_error, r2_score\n",
        "\n",
        "# Load the dataset\n",
        "url = 'https://raw.githubusercontent.com/huzaifsayed/Linear-Regression-Model-for-House-Price-Prediction/master/USA_Housing.csv'\n",
        "data = pd.read_csv(url)\n",
        "\n",
        "# Preprocess the data\n",
        "# Check for missing values\n",
        "print(data.isnull().sum())\n",
        "\n",
        "# Define features and target variable\n",
        "X = data.drop(['Price', 'Address'], axis=1)  # Dropping 'Address' as it's a text feature\n",
        "y = data['Price']\n",
        "\n",
        "# Split the data into training and testing sets\n",
        "X_train, X_test, y_train, y_test = train_test_split(X, y, test_size=0.2, random_state=42)\n",
        "\n",
        "# Create a Linear Regression model\n",
        "model = LinearRegression()\n",
        "\n",
        "# Train the model\n",
        "model.fit(X_train, y_train)\n",
        "\n",
        "# Make predictions\n",
        "y_pred = model.predict(X_test)\n",
        "\n",
        "# Evaluate the model\n",
        "mse = mean_squared_error(y_test, y_pred)\n",
        "rmse = np.sqrt(mse)\n",
        "r2 = r2_score(y_test, y_pred)\n",
        "\n",
        "# Output the results\n",
        "print(f'Root Mean Squared Error: {rmse}')\n",
        "print(f'R² Score: {r2}')\n"
      ]
    },
    {
      "cell_type": "code",
      "source": [],
      "metadata": {
        "id": "DlD2IV7FGqaG"
      },
      "execution_count": null,
      "outputs": []
    }
  ]
}